{
  "nbformat": 4,
  "nbformat_minor": 0,
  "metadata": {
    "colab": {
      "name": "LSTM-ChineseCountryMusic.ipynb",
      "provenance": [],
      "collapsed_sections": [
        "GcG_6Sv3vnIf"
      ]
    },
    "kernelspec": {
      "name": "python3",
      "display_name": "Python 3"
    },
    "accelerator": "GPU"
  },
  "cells": [
    {
      "cell_type": "code",
      "metadata": {
        "id": "jIwv2zG1vgJp",
        "colab_type": "code",
        "colab": {}
      },
      "source": [
        "!pip install music21\n",
        "from google.colab import drive\n",
        "drive.mount('/content/drive/')\n",
        "from google.colab import files\n",
        "\n",
        "!unzip /content/drive/My\\ Drive/Colab\\ Notebooks/han.zip\n",
        "!unzip /content/drive/My\\ Drive/Colab\\ Notebooks/natmin.zip\n",
        "!unzip /content/drive/My\\ Drive/Colab\\ Notebooks/shanxi.zip"
      ],
      "execution_count": 0,
      "outputs": []
    },
    {
      "cell_type": "code",
      "metadata": {
        "id": "rGDvIb4ouY6C",
        "colab_type": "code",
        "outputId": "50965b1c-f7e2-469d-9fb8-a907a6041103",
        "colab": {
          "base_uri": "https://localhost:8080/",
          "height": 97
        }
      },
      "source": [
        "# Importing dependencies\n",
        "import glob\n",
        "import pickle\n",
        "import numpy\n",
        "from music21 import converter, instrument, note, chord, stream\n",
        "from keras.models import Sequential\n",
        "from keras.layers import Dense, Dropout, LSTM, Activation\n",
        "from keras.utils import np_utils\n",
        "from keras.callbacks import ModelCheckpoint"
      ],
      "execution_count": 5,
      "outputs": [
        {
          "output_type": "stream",
          "text": [
            "Using TensorFlow backend.\n"
          ],
          "name": "stderr"
        },
        {
          "output_type": "display_data",
          "data": {
            "text/html": [
              "<p style=\"color: red;\">\n",
              "The default version of TensorFlow in Colab will soon switch to TensorFlow 2.x.<br>\n",
              "We recommend you <a href=\"https://www.tensorflow.org/guide/migrate\" target=\"_blank\">upgrade</a> now \n",
              "or ensure your notebook will continue to use TensorFlow 1.x via the <code>%tensorflow_version 1.x</code> magic:\n",
              "<a href=\"https://colab.research.google.com/notebooks/tensorflow_version.ipynb\" target=\"_blank\">more info</a>.</p>\n"
            ],
            "text/plain": [
              "<IPython.core.display.HTML object>"
            ]
          },
          "metadata": {
            "tags": []
          }
        }
      ]
    },
    {
      "cell_type": "code",
      "metadata": {
        "id": "ftqkaEjZuKNA",
        "colab_type": "code",
        "outputId": "0e24f1c1-3250-4fa2-b95d-4bb1e8719259",
        "colab": {
          "base_uri": "https://localhost:8080/",
          "height": 1000
        }
      },
      "source": [
        "notes = []\n",
        "for i,file in enumerate(glob.glob(\"han/*.krn\")):\n",
        "  midi = converter.parse(file)\n",
        "  print('\\r', 'Parsing file ', i, \" \",file, end='')\n",
        "  notes_to_parse = None\n",
        "  try: # file has instrument parts\n",
        "    s2 = instrument.partitionByInstrument(midi)\n",
        "    notes_to_parse = s2.parts[0].recurse() \n",
        "  except: # file has notes in a flat structure\n",
        "    notes_to_parse = midi.flat.notes\n",
        "  for element in notes_to_parse:\n",
        "    if isinstance(element, note.Note):\n",
        "      notes.append(str(element.pitch))\n",
        "    elif isinstance(element, chord.Chord):\n",
        "      notes.append('.'.join(str(n) for n in element.normalOrder))\n",
        "\n",
        "\n",
        "for i,file in enumerate(glob.glob(\"natmin/*.krn\")):\n",
        "  midi = converter.parse(file)\n",
        "  print('\\r', 'Parsing file ', i, \" \",file, end='')\n",
        "  notes_to_parse = None\n",
        "  try: # file has instrument parts\n",
        "    s2 = instrument.partitionByInstrument(midi)\n",
        "    notes_to_parse = s2.parts[0].recurse() \n",
        "  except: # file has notes in a flat structure\n",
        "    notes_to_parse = midi.flat.notes\n",
        "  for element in notes_to_parse:\n",
        "    if isinstance(element, note.Note):\n",
        "      notes.append(str(element.pitch))\n",
        "    elif isinstance(element, chord.Chord):\n",
        "      notes.append('.'.join(str(n) for n in element.normalOrder))\n",
        "\n",
        "for i,file in enumerate(glob.glob(\"shanxi/*.krn\")):\n",
        "  midi = converter.parse(file)\n",
        "  print('\\r', 'Parsing file ', i, \" \",file, end='')\n",
        "  notes_to_parse = None\n",
        "  try: # file has instrument parts\n",
        "    s2 = instrument.partitionByInstrument(midi)\n",
        "    notes_to_parse = s2.parts[0].recurse() \n",
        "  except: # file has notes in a flat structure\n",
        "    notes_to_parse = midi.flat.notes\n",
        "  for element in notes_to_parse:\n",
        "    if isinstance(element, note.Note):\n",
        "      notes.append(str(element.pitch))\n",
        "    elif isinstance(element, chord.Chord):\n",
        "      notes.append('.'.join(str(n) for n in element.normalOrder))\n",
        "\n",
        "with open('notes', 'wb') as filepath:\n",
        "  pickle.dump(notes, filepath)"
      ],
      "execution_count": 6,
      "outputs": [
        {
          "output_type": "stream",
          "text": [
            " Parsing file  126   han/han0121.krn"
          ],
          "name": "stdout"
        },
        {
          "output_type": "stream",
          "text": [
            "humdrum.spineParser: WARNING: Error in parsing event ('*MZ') at position 12 for spine None: Incorrect meter: *MZ found\n"
          ],
          "name": "stderr"
        },
        {
          "output_type": "stream",
          "text": [
            " Parsing file  139   han/han0303.krn"
          ],
          "name": "stdout"
        },
        {
          "output_type": "stream",
          "text": [
            "humdrum.spineParser: WARNING: Error in parsing event ('*MX') at position 9 for spine None: Incorrect meter: *MX found\n"
          ],
          "name": "stderr"
        },
        {
          "output_type": "stream",
          "text": [
            " Parsing file  156   han/han0283.krn"
          ],
          "name": "stdout"
        },
        {
          "output_type": "stream",
          "text": [
            "humdrum.spineParser: WARNING: Error in parsing event ('*MX') at position 12 for spine None: Incorrect meter: *MX found\n"
          ],
          "name": "stderr"
        },
        {
          "output_type": "stream",
          "text": [
            " Parsing file  176   han/han0356b.krn"
          ],
          "name": "stdout"
        },
        {
          "output_type": "stream",
          "text": [
            "humdrum.spineParser: WARNING: Error in parsing event ('*MX') at position 9 for spine None: Incorrect meter: *MX found\n"
          ],
          "name": "stderr"
        },
        {
          "output_type": "stream",
          "text": [
            " Parsing file  279   han/han0744.krn"
          ],
          "name": "stdout"
        },
        {
          "output_type": "stream",
          "text": [
            "humdrum.spineParser: WARNING: Error in parsing event ('*MX') at position 9 for spine None: Incorrect meter: *MX found\n"
          ],
          "name": "stderr"
        },
        {
          "output_type": "stream",
          "text": [
            "\r Parsing file  280   han/han0167.krn\r Parsing file  281   han/han1081.krn\r Parsing file  282   han/han1086.krn"
          ],
          "name": "stdout"
        },
        {
          "output_type": "stream",
          "text": [
            "humdrum.spineParser: WARNING: Error in parsing event ('*MZ') at position 9 for spine None: Incorrect meter: *MZ found\n"
          ],
          "name": "stderr"
        },
        {
          "output_type": "stream",
          "text": [
            " Parsing file  326   han/han0663.krn"
          ],
          "name": "stdout"
        },
        {
          "output_type": "stream",
          "text": [
            "humdrum.spineParser: WARNING: Error in parsing event ('*MX') at position 9 for spine None: Incorrect meter: *MX found\n"
          ],
          "name": "stderr"
        },
        {
          "output_type": "stream",
          "text": [
            " Parsing file  374   han/han0260.krn"
          ],
          "name": "stdout"
        },
        {
          "output_type": "stream",
          "text": [
            "humdrum.spineParser: WARNING: Error in parsing event ('*MX') at position 12 for spine None: Incorrect meter: *MX found\n"
          ],
          "name": "stderr"
        },
        {
          "output_type": "stream",
          "text": [
            " Parsing file  379   han/han0462.krn"
          ],
          "name": "stdout"
        },
        {
          "output_type": "stream",
          "text": [
            "humdrum.spineParser: WARNING: Error in parsing event ('*MX') at position 9 for spine None: Incorrect meter: *MX found\n"
          ],
          "name": "stderr"
        },
        {
          "output_type": "stream",
          "text": [
            " Parsing file  502   han/han0318.krn"
          ],
          "name": "stdout"
        },
        {
          "output_type": "stream",
          "text": [
            "humdrum.spineParser: WARNING: Error in parsing event ('*MX') at position 12 for spine None: Incorrect meter: *MX found\n"
          ],
          "name": "stderr"
        },
        {
          "output_type": "stream",
          "text": [
            " Parsing file  565   han/han1140.krn"
          ],
          "name": "stdout"
        },
        {
          "output_type": "stream",
          "text": [
            "humdrum.spineParser: WARNING: Error in parsing event ('*MX') at position 9 for spine None: Incorrect meter: *MX found\n"
          ],
          "name": "stderr"
        },
        {
          "output_type": "stream",
          "text": [
            " Parsing file  630   han/han0212.krn"
          ],
          "name": "stdout"
        },
        {
          "output_type": "stream",
          "text": [
            "humdrum.spineParser: WARNING: Error in parsing event ('*MZ') at position 12 for spine None: Incorrect meter: *MZ found\n"
          ],
          "name": "stderr"
        },
        {
          "output_type": "stream",
          "text": [
            " Parsing file  713   han/han0601.krn"
          ],
          "name": "stdout"
        },
        {
          "output_type": "stream",
          "text": [
            "humdrum.spineParser: WARNING: Error in parsing event ('*MZ') at position 9 for spine None: Incorrect meter: *MZ found\n"
          ],
          "name": "stderr"
        },
        {
          "output_type": "stream",
          "text": [
            " Parsing file  752   han/han0080.krn"
          ],
          "name": "stdout"
        },
        {
          "output_type": "stream",
          "text": [
            "humdrum.spineParser: WARNING: Error in parsing event ('*MX') at position 9 for spine None: Incorrect meter: *MX found\n"
          ],
          "name": "stderr"
        },
        {
          "output_type": "stream",
          "text": [
            " Parsing file  770   han/han1010.krn"
          ],
          "name": "stdout"
        },
        {
          "output_type": "stream",
          "text": [
            "humdrum.spineParser: WARNING: Error in parsing event ('*MX') at position 12 for spine None: Incorrect meter: *MX found\n"
          ],
          "name": "stderr"
        },
        {
          "output_type": "stream",
          "text": [
            "\r Parsing file  771   han/han0140.krn\r Parsing file  772   han/han0940.krn\r Parsing file  773   han/han0714.krn"
          ],
          "name": "stdout"
        },
        {
          "output_type": "stream",
          "text": [
            "humdrum.spineParser: WARNING: Error in parsing event ('*MX') at position 9 for spine None: Incorrect meter: *MX found\n"
          ],
          "name": "stderr"
        },
        {
          "output_type": "stream",
          "text": [
            " Parsing file  804   han/han0532.krn"
          ],
          "name": "stdout"
        },
        {
          "output_type": "stream",
          "text": [
            "humdrum.spineParser: WARNING: Error in parsing event ('*MZ') at position 9 for spine None: Incorrect meter: *MZ found\n"
          ],
          "name": "stderr"
        },
        {
          "output_type": "stream",
          "text": [
            " Parsing file  916   han/han0539.krn"
          ],
          "name": "stdout"
        },
        {
          "output_type": "stream",
          "text": [
            "humdrum.spineParser: WARNING: Error in parsing event ('*MX') at position 12 for spine None: Incorrect meter: *MX found\n"
          ],
          "name": "stderr"
        },
        {
          "output_type": "stream",
          "text": [
            " Parsing file  963   han/han0803.krn"
          ],
          "name": "stdout"
        },
        {
          "output_type": "stream",
          "text": [
            "humdrum.spineParser: WARNING: Error in parsing event ('*MX') at position 9 for spine None: Incorrect meter: *MX found\n"
          ],
          "name": "stderr"
        },
        {
          "output_type": "stream",
          "text": [
            " Parsing file  973   han/han1002.krn"
          ],
          "name": "stdout"
        },
        {
          "output_type": "stream",
          "text": [
            "humdrum.spineParser: WARNING: Error in parsing event ('*MZ') at position 9 for spine None: Incorrect meter: *MZ found\n"
          ],
          "name": "stderr"
        },
        {
          "output_type": "stream",
          "text": [
            "\r Parsing file  974   han/han0259.krn\r Parsing file  975   han/han0098.krn\r Parsing file  976   han/han0933.krn\r Parsing file  977   han/han0204.krn"
          ],
          "name": "stdout"
        },
        {
          "output_type": "stream",
          "text": [
            "humdrum.spineParser: WARNING: Error in parsing event ('*MX') at position 9 for spine None: Incorrect meter: *MX found\n"
          ],
          "name": "stderr"
        },
        {
          "output_type": "stream",
          "text": [
            " Parsing file  1006   han/han0594.krn"
          ],
          "name": "stdout"
        },
        {
          "output_type": "stream",
          "text": [
            "humdrum.spineParser: WARNING: Error in parsing event ('*MX') at position 9 for spine None: Incorrect meter: *MX found\n"
          ],
          "name": "stderr"
        },
        {
          "output_type": "stream",
          "text": [
            " Parsing file  1027   han/han0847.krn"
          ],
          "name": "stdout"
        },
        {
          "output_type": "stream",
          "text": [
            "humdrum.spineParser: WARNING: Error in parsing event ('*MX') at position 9 for spine None: Incorrect meter: *MX found\n"
          ],
          "name": "stderr"
        },
        {
          "output_type": "stream",
          "text": [
            " Parsing file  1054   han/han0397b.krn"
          ],
          "name": "stdout"
        },
        {
          "output_type": "stream",
          "text": [
            "humdrum.spineParser: WARNING: Error in parsing event ('*MX') at position 11 for spine None: Incorrect meter: *MX found\n"
          ],
          "name": "stderr"
        },
        {
          "output_type": "stream",
          "text": [
            " Parsing file  1081   han/han0371b.krn"
          ],
          "name": "stdout"
        },
        {
          "output_type": "stream",
          "text": [
            "humdrum.spineParser: WARNING: Error in parsing event ('*MX') at position 9 for spine None: Incorrect meter: *MX found\n"
          ],
          "name": "stderr"
        },
        {
          "output_type": "stream",
          "text": [
            " Parsing file  1122   han/han1065.krn"
          ],
          "name": "stdout"
        },
        {
          "output_type": "stream",
          "text": [
            "humdrum.spineParser: WARNING: Error in parsing event ('*MX') at position 9 for spine None: Incorrect meter: *MX found\n"
          ],
          "name": "stderr"
        },
        {
          "output_type": "stream",
          "text": [
            " Parsing file  1145   han/han0466.krn"
          ],
          "name": "stdout"
        },
        {
          "output_type": "stream",
          "text": [
            "humdrum.spineParser: WARNING: Error in parsing event ('*MZ') at position 12 for spine None: Incorrect meter: *MZ found\n"
          ],
          "name": "stderr"
        },
        {
          "output_type": "stream",
          "text": [
            " Parsing file  1176   han/han0554.krn"
          ],
          "name": "stdout"
        },
        {
          "output_type": "stream",
          "text": [
            "humdrum.spineParser: WARNING: Error in parsing event ('*MX') at position 9 for spine None: Incorrect meter: *MX found\n"
          ],
          "name": "stderr"
        },
        {
          "output_type": "stream",
          "text": [
            " Parsing file  1207   han/han0343b.krn"
          ],
          "name": "stdout"
        },
        {
          "output_type": "stream",
          "text": [
            "humdrum.spineParser: WARNING: Error in parsing event ('*MX') at position 12 for spine None: Incorrect meter: *MX found\n"
          ],
          "name": "stderr"
        },
        {
          "output_type": "stream",
          "text": [
            " Parsing file  1218   han/han0419.krn"
          ],
          "name": "stdout"
        },
        {
          "output_type": "stream",
          "text": [
            "humdrum.spineParser: WARNING: Error in parsing event ('*MX') at position 9 for spine None: Incorrect meter: *MX found\n"
          ],
          "name": "stderr"
        },
        {
          "output_type": "stream",
          "text": [
            " Parsing file  8   natmin/natmn192.krn"
          ],
          "name": "stdout"
        },
        {
          "output_type": "stream",
          "text": [
            "humdrum.spineParser: WARNING: Error in parsing event ('*MX') at position 12 for spine None: Incorrect meter: *MX found\n"
          ],
          "name": "stderr"
        },
        {
          "output_type": "stream",
          "text": [
            "\r Parsing file  9   natmin/natmn180.krn\r Parsing file  10   natmin/natmn169.krn\r Parsing file  11   natmin/natmn108.krn\r Parsing file  12   natmin/natmn145.krn\r Parsing file  13   natmin/natmn136.krn"
          ],
          "name": "stdout"
        },
        {
          "output_type": "stream",
          "text": [
            "humdrum.spineParser: WARNING: Error in parsing event ('*MX') at position 12 for spine None: Incorrect meter: *MX found\n"
          ],
          "name": "stderr"
        },
        {
          "output_type": "stream",
          "text": [
            " Parsing file  23   natmin/natmn191.krn"
          ],
          "name": "stdout"
        },
        {
          "output_type": "stream",
          "text": [
            "humdrum.spineParser: WARNING: Error in parsing event ('*MX') at position 12 for spine None: Incorrect meter: *MX found\n"
          ],
          "name": "stderr"
        },
        {
          "output_type": "stream",
          "text": [
            " Parsing file  31   natmin/natmn063.krn"
          ],
          "name": "stdout"
        },
        {
          "output_type": "stream",
          "text": [
            "humdrum.spineParser: WARNING: Error in parsing event ('*MZ') at position 12 for spine None: Incorrect meter: *MZ found\n"
          ],
          "name": "stderr"
        },
        {
          "output_type": "stream",
          "text": [
            "\r Parsing file  32   natmin/natmn164.krn\r Parsing file  33   natmin/natmn146.krn\r Parsing file  34   natmin/natmn189.krn\r Parsing file  35   natmin/natmn039.krn"
          ],
          "name": "stdout"
        },
        {
          "output_type": "stream",
          "text": [
            "humdrum.spineParser: WARNING: Error in parsing event ('*MZ') at position 12 for spine None: Incorrect meter: *MZ found\n"
          ],
          "name": "stderr"
        },
        {
          "output_type": "stream",
          "text": [
            " Parsing file  47   natmin/natmn058.krn"
          ],
          "name": "stdout"
        },
        {
          "output_type": "stream",
          "text": [
            "humdrum.spineParser: WARNING: Error in parsing event ('*MX') at position 12 for spine None: Incorrect meter: *MX found\n"
          ],
          "name": "stderr"
        },
        {
          "output_type": "stream",
          "text": [
            "\r Parsing file  48   natmin/natmn047.krn\r Parsing file  49   natmin/natmn174.krn\r Parsing file  50   natmin/natmn096.krn\r Parsing file  51   natmin/natmn021.krn"
          ],
          "name": "stdout"
        },
        {
          "output_type": "stream",
          "text": [
            "humdrum.spineParser: WARNING: Error in parsing event ('*MX') at position 12 for spine None: Incorrect meter: *MX found\n"
          ],
          "name": "stderr"
        },
        {
          "output_type": "stream",
          "text": [
            "\r Parsing file  52   natmin/natmn008.krn\r Parsing file  53   natmin/natmn161.krn\r Parsing file  54   natmin/natmn186.krn\r Parsing file  55   natmin/natmn190.krn\r Parsing file  56   natmin/natmn203.krn"
          ],
          "name": "stdout"
        },
        {
          "output_type": "stream",
          "text": [
            "humdrum.spineParser: WARNING: Error in parsing event ('*MZ') at position 12 for spine None: Incorrect meter: *MZ found\n"
          ],
          "name": "stderr"
        },
        {
          "output_type": "stream",
          "text": [
            " Parsing file  61   natmin/natmn029.krn"
          ],
          "name": "stdout"
        },
        {
          "output_type": "stream",
          "text": [
            "humdrum.spineParser: WARNING: Error in parsing event ('*MZ') at position 12 for spine None: Incorrect meter: *MZ found\n"
          ],
          "name": "stderr"
        },
        {
          "output_type": "stream",
          "text": [
            " "
          ],
          "name": "stdout"
        },
        {
          "output_type": "stream",
          "text": [
            "humdrum.spineParser: WARNING: Error in parsing event ('*MX') at position 12 for spine None: Incorrect meter: *MX found\n",
            "humdrum.spineParser: WARNING: Error in parsing event ('*MX') at position 12 for spine None: Incorrect meter: *MX found\n",
            "humdrum.spineParser: WARNING: Error in parsing event ('*MX') at position 12 for spine None: Incorrect meter: *MX found\n"
          ],
          "name": "stderr"
        },
        {
          "output_type": "stream",
          "text": [
            "Parsing file  96   natmin/natmn025.krn\r Parsing file  97   natmin/natmn156.krn\r Parsing file  98   natmin/natmn087.krn"
          ],
          "name": "stdout"
        },
        {
          "output_type": "stream",
          "text": [
            "humdrum.spineParser: WARNING: Error in parsing event ('*MX') at position 12 for spine None: Incorrect meter: *MX found\n"
          ],
          "name": "stderr"
        },
        {
          "output_type": "stream",
          "text": [
            "\r Parsing file  99   natmin/natmn183.krn\r Parsing file  100   natmin/natmn079.krn\r Parsing file  101   natmin/natmn160.krn\r Parsing file  102   natmin/natmn124.krn"
          ],
          "name": "stdout"
        },
        {
          "output_type": "stream",
          "text": [
            "humdrum.spineParser: WARNING: Error in parsing event ('*MX') at position 12 for spine None: Incorrect meter: *MX found\n",
            "humdrum.spineParser: WARNING: Error in parsing event ('*MX') at position 12 for spine None: Incorrect meter: *MX found\n"
          ],
          "name": "stderr"
        },
        {
          "output_type": "stream",
          "text": [
            " Parsing file  112   natmin/natmn138.krn"
          ],
          "name": "stdout"
        },
        {
          "output_type": "stream",
          "text": [
            "humdrum.spineParser: WARNING: Error in parsing event ('*MZ') at position 12 for spine None: Incorrect meter: *MZ found\n"
          ],
          "name": "stderr"
        },
        {
          "output_type": "stream",
          "text": [
            "\r Parsing file  113   natmin/natmn061.krn\r Parsing file  114   natmin/natmn158.krn\r Parsing file  115   natmin/natmn143.krn\r Parsing file  116   natmin/natmn177.krn\r Parsing file  117   natmin/natmn196.krn"
          ],
          "name": "stdout"
        },
        {
          "output_type": "stream",
          "text": [
            "humdrum.spineParser: WARNING: Error in parsing event ('*MX') at position 12 for spine None: Incorrect meter: *MX found\n",
            "humdrum.spineParser: WARNING: Error in parsing event ('*MX') at position 12 for spine None: Incorrect meter: *MX found\n"
          ],
          "name": "stderr"
        },
        {
          "output_type": "stream",
          "text": [
            "\r Parsing file  118   natmin/natmn038.krn\r Parsing file  119   natmin/natmn059.krn\r Parsing file  120   natmin/natmn120.krn\r Parsing file  121   natmin/natmn010.krn\r Parsing file  122   natmin/natmn092.krn"
          ],
          "name": "stdout"
        },
        {
          "output_type": "stream",
          "text": [
            "humdrum.spineParser: WARNING: Error in parsing event ('*MX') at position 12 for spine None: Incorrect meter: *MX found\n"
          ],
          "name": "stderr"
        },
        {
          "output_type": "stream",
          "text": [
            "\r Parsing file  123   natmin/natmn141.krn\r Parsing file  124   natmin/natmn052.krn\r Parsing file  125   natmin/natmn084.krn"
          ],
          "name": "stdout"
        },
        {
          "output_type": "stream",
          "text": [
            "humdrum.spineParser: WARNING: Error in parsing event ('*MX') at position 12 for spine None: Incorrect meter: *MX found\n"
          ],
          "name": "stderr"
        },
        {
          "output_type": "stream",
          "text": [
            " Parsing file  138   natmin/natmn162.krn"
          ],
          "name": "stdout"
        },
        {
          "output_type": "stream",
          "text": [
            "humdrum.spineParser: WARNING: Error in parsing event ('*MX') at position 12 for spine None: Incorrect meter: *MX found\n"
          ],
          "name": "stderr"
        },
        {
          "output_type": "stream",
          "text": [
            " Parsing file  151   natmin/natmn148.krn"
          ],
          "name": "stdout"
        },
        {
          "output_type": "stream",
          "text": [
            "humdrum.spineParser: WARNING: Error in parsing event ('*MX') at position 12 for spine None: Incorrect meter: *MX found\n"
          ],
          "name": "stderr"
        },
        {
          "output_type": "stream",
          "text": [
            " Parsing file  157   natmin/natmn097.krn"
          ],
          "name": "stdout"
        },
        {
          "output_type": "stream",
          "text": [
            "humdrum.spineParser: WARNING: Error in parsing event ('*MX') at position 12 for spine None: Incorrect meter: *MX found\n",
            "humdrum.spineParser: WARNING: Error in parsing event ('*MX') at position 12 for spine None: Incorrect meter: *MX found\n"
          ],
          "name": "stderr"
        },
        {
          "output_type": "stream",
          "text": [
            "\r Parsing file  158   natmin/natmn175.krn\r Parsing file  159   natmin/natmn115.krn\r Parsing file  160   natmin/natmn113.krn\r Parsing file  161   natmin/natmn167.krn"
          ],
          "name": "stdout"
        },
        {
          "output_type": "stream",
          "text": [
            "humdrum.spineParser: WARNING: Error in parsing event ('*MX') at position 12 for spine None: Incorrect meter: *MX found\n"
          ],
          "name": "stderr"
        },
        {
          "output_type": "stream",
          "text": [
            " Parsing file  174   natmin/natmn013.krn"
          ],
          "name": "stdout"
        },
        {
          "output_type": "stream",
          "text": [
            "humdrum.spineParser: WARNING: Error in parsing event ('*MZ') at position 12 for spine None: Incorrect meter: *MZ found\n"
          ],
          "name": "stderr"
        },
        {
          "output_type": "stream",
          "text": [
            " Parsing file  181   natmin/natmn081.krn"
          ],
          "name": "stdout"
        },
        {
          "output_type": "stream",
          "text": [
            "humdrum.spineParser: WARNING: Error in parsing event ('*MX') at position 12 for spine None: Incorrect meter: *MX found\n"
          ],
          "name": "stderr"
        },
        {
          "output_type": "stream",
          "text": [
            "\r Parsing file  182   natmin/natmn195.krn\r Parsing file  183   natmin/natmn173.krn\r Parsing file  184   natmin/natmn202.krn"
          ],
          "name": "stdout"
        },
        {
          "output_type": "stream",
          "text": [
            "humdrum.spineParser: WARNING: Error in parsing event ('*MX') at position 12 for spine None: Incorrect meter: *MX found\n"
          ],
          "name": "stderr"
        },
        {
          "output_type": "stream",
          "text": [
            " Parsing file  194   natmin/natmn083.krn"
          ],
          "name": "stdout"
        },
        {
          "output_type": "stream",
          "text": [
            "humdrum.spineParser: WARNING: Error in parsing event ('*MX') at position 12 for spine None: Incorrect meter: *MX found\n"
          ],
          "name": "stderr"
        },
        {
          "output_type": "stream",
          "text": [
            " Parsing file  202   natmin/natmn056.krn"
          ],
          "name": "stdout"
        },
        {
          "output_type": "stream",
          "text": [
            "humdrum.spineParser: WARNING: Error in parsing event ('*MX') at position 12 for spine None: Incorrect meter: *MX found\n"
          ],
          "name": "stderr"
        },
        {
          "output_type": "stream",
          "text": [
            " Parsing file  362   shanxi/shanx102.krn"
          ],
          "name": "stdout"
        },
        {
          "output_type": "stream",
          "text": [
            "humdrum.spineParser: WARNING: Error in parsing event ('*MZ') at position 11 for spine None: Incorrect meter: *MZ found\n"
          ],
          "name": "stderr"
        },
        {
          "output_type": "stream",
          "text": [
            " Parsing file  404   shanxi/shanx411.krn"
          ],
          "name": "stdout"
        },
        {
          "output_type": "stream",
          "text": [
            "humdrum.spineParser: WARNING: Error in parsing event ('*MZ') at position 11 for spine None: Incorrect meter: *MZ found\n"
          ],
          "name": "stderr"
        },
        {
          "output_type": "stream",
          "text": [
            " Parsing file  483   shanxi/shanx192.krn"
          ],
          "name": "stdout"
        },
        {
          "output_type": "stream",
          "text": [
            "humdrum.spineParser: WARNING: Error in parsing event ('*MZ') at position 12 for spine None: Incorrect meter: *MZ found\n"
          ],
          "name": "stderr"
        },
        {
          "output_type": "stream",
          "text": [
            " Parsing file  503   shanxi/shanx689.krn"
          ],
          "name": "stdout"
        },
        {
          "output_type": "stream",
          "text": [
            "humdrum.spineParser: WARNING: Error in parsing event ('*MZ') at position 11 for spine None: Incorrect meter: *MZ found\n"
          ],
          "name": "stderr"
        },
        {
          "output_type": "stream",
          "text": [
            " Parsing file  563   shanxi/shanx792.krn"
          ],
          "name": "stdout"
        },
        {
          "output_type": "stream",
          "text": [
            "humdrum.spineParser: WARNING: Error in parsing event ('*MX') at position 11 for spine None: Incorrect meter: *MX found\n"
          ],
          "name": "stderr"
        },
        {
          "output_type": "stream",
          "text": [
            " Parsing file  801   shanxi/shanx265.krn"
          ],
          "name": "stdout"
        }
      ]
    },
    {
      "cell_type": "code",
      "metadata": {
        "id": "jYvFikgEpz5Q",
        "colab_type": "code",
        "outputId": "4beaf776-925e-409a-ceed-c5e5460a9aeb",
        "colab": {
          "base_uri": "https://localhost:8080/",
          "height": 34
        }
      },
      "source": [
        "# Count different possible outputs\n",
        "n_vocab = (len(set(notes)))\n",
        "n_vocab"
      ],
      "execution_count": 7,
      "outputs": [
        {
          "output_type": "execute_result",
          "data": {
            "text/plain": [
              "67"
            ]
          },
          "metadata": {
            "tags": []
          },
          "execution_count": 7
        }
      ]
    },
    {
      "cell_type": "code",
      "metadata": {
        "id": "72GVH8iVqjVo",
        "colab_type": "code",
        "colab": {}
      },
      "source": [
        "sequence_length = 100\n",
        "# get all pitch names\n",
        "pitchnames = sorted(set(item for item in notes))\n",
        "# create a dictionary to map pitches to integers\n",
        "note_to_int = dict((note, number) for number, note in enumerate(pitchnames))\n",
        "network_input = []\n",
        "network_output = []\n",
        "# create input sequences and the corresponding outputs\n",
        "for i in range(0, len(notes) - sequence_length, 1):\n",
        "  sequence_in = notes[i:i + sequence_length] # Size sequence_length\n",
        "  sequence_out = notes[i + sequence_length]  # Size 1\n",
        "  # Map pitches of sequence_in to integers\n",
        "  network_input.append([note_to_int[char] for char in sequence_in])\n",
        "  # Map integer of sequence_out to an integer\n",
        "  network_output.append(note_to_int[sequence_out])\n",
        "n_patterns = len(network_input)\n",
        "# reshape the input into a format compatible with LSTM layers\n",
        "network_input = numpy.reshape(network_input, (n_patterns, sequence_length, 1))\n",
        "# normalize input\n",
        "network_input = network_input / float(n_vocab)\n",
        "network_output = np_utils.to_categorical(network_output)"
      ],
      "execution_count": 0,
      "outputs": []
    },
    {
      "cell_type": "code",
      "metadata": {
        "id": "4hO3DXUZzFJx",
        "colab_type": "code",
        "outputId": "5b217140-eb2e-47fc-926d-486d729bbea4",
        "colab": {
          "base_uri": "https://localhost:8080/",
          "height": 51
        }
      },
      "source": [
        "print(network_input.shape)\n",
        "print(network_output.shape)"
      ],
      "execution_count": 9,
      "outputs": [
        {
          "output_type": "stream",
          "text": [
            "(143467, 100, 1)\n",
            "(143467, 67)\n"
          ],
          "name": "stdout"
        }
      ]
    },
    {
      "cell_type": "code",
      "metadata": {
        "id": "X30i_QoHvoP9",
        "colab_type": "code",
        "colab": {}
      },
      "source": [
        "def create_network(network_input, n_vocab):\n",
        "    \"\"\" create the structure of the neural network \"\"\"\n",
        "    model = Sequential()\n",
        "    model.add(LSTM(\n",
        "        512,\n",
        "        input_shape=(network_input.shape[1], network_input.shape[2]),\n",
        "        return_sequences=True\n",
        "    ))\n",
        "    model.add(Dropout(0.3))\n",
        "    model.add(LSTM(512, return_sequences=True))\n",
        "    model.add(Dropout(0.3))\n",
        "    model.add(LSTM(512))\n",
        "    model.add(Dense(256))\n",
        "    model.add(Dropout(0.3))\n",
        "    model.add(Dense(n_vocab))\n",
        "    model.add(Activation('softmax'))\n",
        "    model.compile(loss='categorical_crossentropy', optimizer='rmsprop')\n",
        "    return model"
      ],
      "execution_count": 0,
      "outputs": []
    },
    {
      "cell_type": "code",
      "metadata": {
        "id": "-AWfJRfLv4vg",
        "colab_type": "code",
        "outputId": "961000c0-e46c-4a49-cc70-a1f4d6291895",
        "colab": {
          "base_uri": "https://localhost:8080/",
          "height": 734
        }
      },
      "source": [
        "model = create_network(network_input,n_vocab)\n",
        "model.summary()"
      ],
      "execution_count": 11,
      "outputs": [
        {
          "output_type": "stream",
          "text": [
            "WARNING:tensorflow:From /usr/local/lib/python3.6/dist-packages/keras/backend/tensorflow_backend.py:66: The name tf.get_default_graph is deprecated. Please use tf.compat.v1.get_default_graph instead.\n",
            "\n",
            "WARNING:tensorflow:From /usr/local/lib/python3.6/dist-packages/keras/backend/tensorflow_backend.py:541: The name tf.placeholder is deprecated. Please use tf.compat.v1.placeholder instead.\n",
            "\n",
            "WARNING:tensorflow:From /usr/local/lib/python3.6/dist-packages/keras/backend/tensorflow_backend.py:4432: The name tf.random_uniform is deprecated. Please use tf.random.uniform instead.\n",
            "\n",
            "WARNING:tensorflow:From /usr/local/lib/python3.6/dist-packages/keras/backend/tensorflow_backend.py:148: The name tf.placeholder_with_default is deprecated. Please use tf.compat.v1.placeholder_with_default instead.\n",
            "\n",
            "WARNING:tensorflow:From /usr/local/lib/python3.6/dist-packages/keras/backend/tensorflow_backend.py:3733: calling dropout (from tensorflow.python.ops.nn_ops) with keep_prob is deprecated and will be removed in a future version.\n",
            "Instructions for updating:\n",
            "Please use `rate` instead of `keep_prob`. Rate should be set to `rate = 1 - keep_prob`.\n",
            "WARNING:tensorflow:From /usr/local/lib/python3.6/dist-packages/keras/optimizers.py:793: The name tf.train.Optimizer is deprecated. Please use tf.compat.v1.train.Optimizer instead.\n",
            "\n",
            "WARNING:tensorflow:From /usr/local/lib/python3.6/dist-packages/keras/backend/tensorflow_backend.py:3576: The name tf.log is deprecated. Please use tf.math.log instead.\n",
            "\n",
            "Model: \"sequential_1\"\n",
            "_________________________________________________________________\n",
            "Layer (type)                 Output Shape              Param #   \n",
            "=================================================================\n",
            "lstm_1 (LSTM)                (None, 100, 512)          1052672   \n",
            "_________________________________________________________________\n",
            "dropout_1 (Dropout)          (None, 100, 512)          0         \n",
            "_________________________________________________________________\n",
            "lstm_2 (LSTM)                (None, 100, 512)          2099200   \n",
            "_________________________________________________________________\n",
            "dropout_2 (Dropout)          (None, 100, 512)          0         \n",
            "_________________________________________________________________\n",
            "lstm_3 (LSTM)                (None, 512)               2099200   \n",
            "_________________________________________________________________\n",
            "dense_1 (Dense)              (None, 256)               131328    \n",
            "_________________________________________________________________\n",
            "dropout_3 (Dropout)          (None, 256)               0         \n",
            "_________________________________________________________________\n",
            "dense_2 (Dense)              (None, 67)                17219     \n",
            "_________________________________________________________________\n",
            "activation_1 (Activation)    (None, 67)                0         \n",
            "=================================================================\n",
            "Total params: 5,399,619\n",
            "Trainable params: 5,399,619\n",
            "Non-trainable params: 0\n",
            "_________________________________________________________________\n"
          ],
          "name": "stdout"
        }
      ]
    },
    {
      "cell_type": "code",
      "metadata": {
        "id": "BzU0QCeiwA64",
        "colab_type": "code",
        "colab": {}
      },
      "source": [
        "# In case we want to use previously trained weights\n",
        "weights = \"/content/drive/My\\ Drive/Colab\\ Notebooks/Checkpoint/.h5\"\n",
        "model.load_weights(weights)"
      ],
      "execution_count": 0,
      "outputs": []
    },
    {
      "cell_type": "code",
      "metadata": {
        "id": "C9gdCGq5wDVd",
        "colab_type": "code",
        "outputId": "a2e6e18a-06aa-40c0-a084-050ab2b5acb0",
        "colab": {
          "base_uri": "https://localhost:8080/",
          "height": 1000
        }
      },
      "source": [
        "filepath = \"/content/{epoch:02d}-{loss:.4f}.h5\"\n",
        "\n",
        "\n",
        "checkpoint = ModelCheckpoint(filepath, monitor='loss',verbose=0,\n",
        "                             save_best_only=True,mode='min')\n",
        "\n",
        "callbacks_list = [checkpoint]\n",
        "model.fit(network_input, network_output, epochs=40, batch_size=256, \n",
        "          callbacks=callbacks_list)"
      ],
      "execution_count": 18,
      "outputs": [
        {
          "output_type": "stream",
          "text": [
            "Epoch 1/40\n",
            "143467/143467 [==============================] - 296s 2ms/step - loss: 2.9622\n",
            "Epoch 2/40\n",
            "143467/143467 [==============================] - 300s 2ms/step - loss: 3.8809\n",
            "Epoch 3/40\n",
            "143467/143467 [==============================] - 300s 2ms/step - loss: 2.7127\n",
            "Epoch 4/40\n",
            "143467/143467 [==============================] - 300s 2ms/step - loss: 2.4745\n",
            "Epoch 5/40\n",
            "143467/143467 [==============================] - 301s 2ms/step - loss: 2.3557\n",
            "Epoch 6/40\n",
            "143467/143467 [==============================] - 300s 2ms/step - loss: 2.2688\n",
            "Epoch 7/40\n",
            "143467/143467 [==============================] - 300s 2ms/step - loss: 2.1906\n",
            "Epoch 8/40\n",
            "143467/143467 [==============================] - 300s 2ms/step - loss: 2.1128\n",
            "Epoch 9/40\n",
            "143467/143467 [==============================] - 301s 2ms/step - loss: 2.0404\n",
            "Epoch 10/40\n",
            "143467/143467 [==============================] - 302s 2ms/step - loss: 1.9788\n",
            "Epoch 11/40\n",
            "143467/143467 [==============================] - 301s 2ms/step - loss: 1.9251\n",
            "Epoch 12/40\n",
            "143467/143467 [==============================] - 302s 2ms/step - loss: 1.8754\n",
            "Epoch 13/40\n",
            "143467/143467 [==============================] - 302s 2ms/step - loss: 1.8303\n",
            "Epoch 14/40\n",
            "143467/143467 [==============================] - 302s 2ms/step - loss: 1.7864\n",
            "Epoch 15/40\n",
            "143467/143467 [==============================] - 302s 2ms/step - loss: 1.7401\n",
            "Epoch 16/40\n",
            "143467/143467 [==============================] - 303s 2ms/step - loss: 1.6961\n",
            "Epoch 17/40\n",
            "143467/143467 [==============================] - 304s 2ms/step - loss: 1.6528\n",
            "Epoch 18/40\n",
            "143467/143467 [==============================] - 304s 2ms/step - loss: 1.6105\n",
            "Epoch 19/40\n",
            "143467/143467 [==============================] - 304s 2ms/step - loss: 1.5654\n",
            "Epoch 20/40\n",
            "143467/143467 [==============================] - 303s 2ms/step - loss: 1.5164\n",
            "Epoch 21/40\n",
            "143467/143467 [==============================] - 303s 2ms/step - loss: 1.4715\n",
            "Epoch 22/40\n",
            "143467/143467 [==============================] - 301s 2ms/step - loss: 1.4263\n",
            "Epoch 23/40\n",
            "143467/143467 [==============================] - 301s 2ms/step - loss: 1.3794\n",
            "Epoch 24/40\n",
            "143467/143467 [==============================] - 301s 2ms/step - loss: 1.3368\n",
            "Epoch 25/40\n",
            "143467/143467 [==============================] - 301s 2ms/step - loss: 1.2896\n",
            "Epoch 26/40\n",
            "143467/143467 [==============================] - 301s 2ms/step - loss: 1.2480\n",
            "Epoch 27/40\n",
            "143467/143467 [==============================] - 301s 2ms/step - loss: 1.2031\n",
            "Epoch 28/40\n",
            "143467/143467 [==============================] - 303s 2ms/step - loss: 1.1575\n",
            "Epoch 29/40\n",
            "143467/143467 [==============================] - 302s 2ms/step - loss: 1.1148\n",
            "Epoch 30/40\n",
            "143467/143467 [==============================] - 302s 2ms/step - loss: 1.0746\n",
            "Epoch 31/40\n",
            "143467/143467 [==============================] - 301s 2ms/step - loss: 1.0338\n",
            "Epoch 32/40\n",
            "143467/143467 [==============================] - 301s 2ms/step - loss: 0.9972\n",
            "Epoch 33/40\n",
            "143467/143467 [==============================] - 302s 2ms/step - loss: 0.9583\n",
            "Epoch 34/40\n",
            "143467/143467 [==============================] - 303s 2ms/step - loss: 0.9215\n",
            "Epoch 35/40\n",
            "143467/143467 [==============================] - 303s 2ms/step - loss: 0.8915\n",
            "Epoch 36/40\n",
            "143467/143467 [==============================] - 302s 2ms/step - loss: 0.8527\n",
            "Epoch 37/40\n",
            "143467/143467 [==============================] - 303s 2ms/step - loss: 0.8215\n",
            "Epoch 38/40\n",
            "143467/143467 [==============================] - 303s 2ms/step - loss: 0.7895\n",
            "Epoch 39/40\n",
            "143467/143467 [==============================] - 303s 2ms/step - loss: 0.7612\n",
            "Epoch 40/40\n",
            "143467/143467 [==============================] - 302s 2ms/step - loss: 0.7360\n"
          ],
          "name": "stdout"
        },
        {
          "output_type": "execute_result",
          "data": {
            "text/plain": [
              "<keras.callbacks.History at 0x7fd2d44e14a8>"
            ]
          },
          "metadata": {
            "tags": []
          },
          "execution_count": 18
        }
      ]
    },
    {
      "cell_type": "code",
      "metadata": {
        "id": "cZ-n-Z2HwcDO",
        "colab_type": "code",
        "colab": {}
      },
      "source": [
        "# Generate network input again\n",
        "network_input = []\n",
        "output = []\n",
        "for i in range(0, len(notes) - sequence_length, 1):\n",
        "  sequence_in = notes[i:i + sequence_length]\n",
        "  sequence_out = notes[i + sequence_length]\n",
        "  network_input.append([note_to_int[char] for char in sequence_in])\n",
        "  output.append(note_to_int[sequence_out])\n",
        "n_patterns = len(network_input)"
      ],
      "execution_count": 0,
      "outputs": []
    },
    {
      "cell_type": "code",
      "metadata": {
        "id": "5uKIPbuSwdkS",
        "colab_type": "code",
        "outputId": "834fa3f8-c93a-4f43-b264-8d88acaafa8f",
        "colab": {
          "base_uri": "https://localhost:8080/",
          "height": 34
        }
      },
      "source": [
        "\"\"\" Generate notes from the neural network based on a sequence of notes \"\"\"\n",
        "# pick a random sequence from the input as a starting point for the prediction\n",
        "start = numpy.random.randint(0, len(network_input)-1)\n",
        "int_to_note = dict((number, note) for number, note in enumerate(pitchnames))\n",
        "pattern = network_input[start]\n",
        "prediction_output = []\n",
        "# generate 500 notes\n",
        "for i,note_index in enumerate(range(300)):\n",
        "  prediction_input = numpy.reshape(pattern, (1, len(pattern), 1))\n",
        "  prediction_input = prediction_input / float(n_vocab)\n",
        "  prediction = model.predict(prediction_input, verbose=0)\n",
        "  index = numpy.argmax(prediction)\n",
        "  result = int_to_note[index]\n",
        "  print('\\r', 'Predicted ', i, \" \",result, end='')\n",
        "  prediction_output.append(result)\n",
        "  pattern.append(index)\n",
        "  pattern = pattern[1:len(pattern)]"
      ],
      "execution_count": 69,
      "outputs": [
        {
          "output_type": "stream",
          "text": [
            " Predicted  299   D5"
          ],
          "name": "stdout"
        }
      ]
    },
    {
      "cell_type": "code",
      "metadata": {
        "id": "_PJ6lb4AwhnJ",
        "colab_type": "code",
        "outputId": "9ac6a28c-4ad1-4f52-cc7b-6ecd11e5d629",
        "colab": {
          "base_uri": "https://localhost:8080/",
          "height": 34
        }
      },
      "source": [
        "offset = 0\n",
        "output_notes = []\n",
        "# create note and chord objects based on the values generated by the model\n",
        "for pattern in prediction_output:\n",
        "    # pattern is a chord\n",
        "    if ('.' in pattern) or pattern.isdigit():\n",
        "        notes_in_chord = pattern.split('.')\n",
        "        notes = []\n",
        "        for current_note in notes_in_chord:\n",
        "            new_note = note.Note(int(current_note))\n",
        "            new_note.storedInstrument = instrument.Piano()\n",
        "            notes.append(new_note)\n",
        "        new_chord = chord.Chord(notes)\n",
        "        new_chord.offset = offset\n",
        "        output_notes.append(new_chord)\n",
        "    # pattern is a note\n",
        "    else:\n",
        "        new_note = note.Note(pattern)\n",
        "        new_note.offset = offset\n",
        "        new_note.storedInstrument = instrument.Piano()\n",
        "        output_notes.append(new_note)\n",
        "\n",
        "    # increase offset each iteration so that notes do not stack\n",
        "    offset += 0.5\n",
        "\n",
        "midi_stream = stream.Stream(output_notes)\n",
        "midi_stream.write('midi', fp='Demo15.mid')"
      ],
      "execution_count": 71,
      "outputs": [
        {
          "output_type": "execute_result",
          "data": {
            "text/plain": [
              "'Demo15.mid'"
            ]
          },
          "metadata": {
            "tags": []
          },
          "execution_count": 71
        }
      ]
    }
  ]
}
